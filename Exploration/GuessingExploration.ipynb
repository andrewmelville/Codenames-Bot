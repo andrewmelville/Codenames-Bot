{
 "cells": [
  {
   "cell_type": "code",
   "execution_count": 191,
   "id": "03256789-a823-45b4-92eb-4b1036fa2723",
   "metadata": {},
   "outputs": [
    {
     "name": "stdout",
     "output_type": "stream",
     "text": [
      "Collecting en-core-web-lg==3.1.0\n",
      "  Downloading https://github.com/explosion/spacy-models/releases/download/en_core_web_lg-3.1.0/en_core_web_lg-3.1.0-py3-none-any.whl (777.1 MB)\n",
      "Requirement already satisfied: spacy<3.2.0,>=3.1.0 in c:\\users\\andre\\anaconda3\\envs\\codenamesbot\\lib\\site-packages (from en-core-web-lg==3.1.0) (3.1.2)\n",
      "Requirement already satisfied: thinc<8.1.0,>=8.0.8 in c:\\users\\andre\\anaconda3\\envs\\codenamesbot\\lib\\site-packages (from spacy<3.2.0,>=3.1.0->en-core-web-lg==3.1.0) (8.0.8)\n",
      "Requirement already satisfied: requests<3.0.0,>=2.13.0 in c:\\users\\andre\\anaconda3\\envs\\codenamesbot\\lib\\site-packages (from spacy<3.2.0,>=3.1.0->en-core-web-lg==3.1.0) (2.24.0)\n",
      "Requirement already satisfied: setuptools in c:\\users\\andre\\anaconda3\\envs\\codenamesbot\\lib\\site-packages (from spacy<3.2.0,>=3.1.0->en-core-web-lg==3.1.0) (50.3.0.post20201006)\n",
      "Requirement already satisfied: catalogue<2.1.0,>=2.0.4 in c:\\users\\andre\\anaconda3\\envs\\codenamesbot\\lib\\site-packages (from spacy<3.2.0,>=3.1.0->en-core-web-lg==3.1.0) (2.0.5)\n",
      "Requirement already satisfied: jinja2 in c:\\users\\andre\\anaconda3\\envs\\codenamesbot\\lib\\site-packages (from spacy<3.2.0,>=3.1.0->en-core-web-lg==3.1.0) (3.0.1)\n",
      "Requirement already satisfied: packaging>=20.0 in c:\\users\\andre\\anaconda3\\envs\\codenamesbot\\lib\\site-packages (from spacy<3.2.0,>=3.1.0->en-core-web-lg==3.1.0) (21.0)\n",
      "Requirement already satisfied: wasabi<1.1.0,>=0.8.1 in c:\\users\\andre\\anaconda3\\envs\\codenamesbot\\lib\\site-packages (from spacy<3.2.0,>=3.1.0->en-core-web-lg==3.1.0) (0.8.2)\n",
      "Requirement already satisfied: tqdm<5.0.0,>=4.38.0 in c:\\users\\andre\\anaconda3\\envs\\codenamesbot\\lib\\site-packages (from spacy<3.2.0,>=3.1.0->en-core-web-lg==3.1.0) (4.62.1)\n",
      "Requirement already satisfied: pydantic!=1.8,!=1.8.1,<1.9.0,>=1.7.4 in c:\\users\\andre\\anaconda3\\envs\\codenamesbot\\lib\\site-packages (from spacy<3.2.0,>=3.1.0->en-core-web-lg==3.1.0) (1.8.2)\n",
      "Requirement already satisfied: pathy>=0.3.5 in c:\\users\\andre\\anaconda3\\envs\\codenamesbot\\lib\\site-packages (from spacy<3.2.0,>=3.1.0->en-core-web-lg==3.1.0) (0.6.0)\n",
      "Requirement already satisfied: murmurhash<1.1.0,>=0.28.0 in c:\\users\\andre\\anaconda3\\envs\\codenamesbot\\lib\\site-packages (from spacy<3.2.0,>=3.1.0->en-core-web-lg==3.1.0) (1.0.5)\n",
      "Requirement already satisfied: cymem<2.1.0,>=2.0.2 in c:\\users\\andre\\anaconda3\\envs\\codenamesbot\\lib\\site-packages (from spacy<3.2.0,>=3.1.0->en-core-web-lg==3.1.0) (2.0.5)\n",
      "Requirement already satisfied: typer<0.4.0,>=0.3.0 in c:\\users\\andre\\anaconda3\\envs\\codenamesbot\\lib\\site-packages (from spacy<3.2.0,>=3.1.0->en-core-web-lg==3.1.0) (0.3.2)\n",
      "Requirement already satisfied: srsly<3.0.0,>=2.4.1 in c:\\users\\andre\\anaconda3\\envs\\codenamesbot\\lib\\site-packages (from spacy<3.2.0,>=3.1.0->en-core-web-lg==3.1.0) (2.4.1)\n",
      "Requirement already satisfied: blis<0.8.0,>=0.4.0 in c:\\users\\andre\\anaconda3\\envs\\codenamesbot\\lib\\site-packages (from spacy<3.2.0,>=3.1.0->en-core-web-lg==3.1.0) (0.7.4)\n",
      "Requirement already satisfied: numpy>=1.15.0 in c:\\users\\andre\\anaconda3\\envs\\codenamesbot\\lib\\site-packages (from spacy<3.2.0,>=3.1.0->en-core-web-lg==3.1.0) (1.20.3)\n",
      "Requirement already satisfied: spacy-legacy<3.1.0,>=3.0.7 in c:\\users\\andre\\anaconda3\\envs\\codenamesbot\\lib\\site-packages (from spacy<3.2.0,>=3.1.0->en-core-web-lg==3.1.0) (3.0.8)\n",
      "Requirement already satisfied: preshed<3.1.0,>=3.0.2 in c:\\users\\andre\\anaconda3\\envs\\codenamesbot\\lib\\site-packages (from spacy<3.2.0,>=3.1.0->en-core-web-lg==3.1.0) (3.0.5)\n",
      "Requirement already satisfied: certifi>=2017.4.17 in c:\\users\\andre\\anaconda3\\envs\\codenamesbot\\lib\\site-packages (from requests<3.0.0,>=2.13.0->spacy<3.2.0,>=3.1.0->en-core-web-lg==3.1.0) (2020.6.20)\n",
      "Requirement already satisfied: idna<3,>=2.5 in c:\\users\\andre\\anaconda3\\envs\\codenamesbot\\lib\\site-packages (from requests<3.0.0,>=2.13.0->spacy<3.2.0,>=3.1.0->en-core-web-lg==3.1.0) (2.10)\n",
      "Requirement already satisfied: urllib3!=1.25.0,!=1.25.1,<1.26,>=1.21.1 in c:\\users\\andre\\anaconda3\\envs\\codenamesbot\\lib\\site-packages (from requests<3.0.0,>=2.13.0->spacy<3.2.0,>=3.1.0->en-core-web-lg==3.1.0) (1.25.11)\n",
      "Requirement already satisfied: chardet<4,>=3.0.2 in c:\\users\\andre\\anaconda3\\envs\\codenamesbot\\lib\\site-packages (from requests<3.0.0,>=2.13.0->spacy<3.2.0,>=3.1.0->en-core-web-lg==3.1.0) (3.0.4)\n",
      "Requirement already satisfied: MarkupSafe>=2.0 in c:\\users\\andre\\anaconda3\\envs\\codenamesbot\\lib\\site-packages (from jinja2->spacy<3.2.0,>=3.1.0->en-core-web-lg==3.1.0) (2.0.1)\n",
      "Requirement already satisfied: pyparsing>=2.0.2 in c:\\users\\andre\\anaconda3\\envs\\codenamesbot\\lib\\site-packages (from packaging>=20.0->spacy<3.2.0,>=3.1.0->en-core-web-lg==3.1.0) (2.4.7)\n",
      "Requirement already satisfied: colorama; platform_system == \"Windows\" in c:\\users\\andre\\anaconda3\\envs\\codenamesbot\\lib\\site-packages (from tqdm<5.0.0,>=4.38.0->spacy<3.2.0,>=3.1.0->en-core-web-lg==3.1.0) (0.4.4)\n",
      "Requirement already satisfied: typing-extensions>=3.7.4.3 in c:\\users\\andre\\anaconda3\\envs\\codenamesbot\\lib\\site-packages (from pydantic!=1.8,!=1.8.1,<1.9.0,>=1.7.4->spacy<3.2.0,>=3.1.0->en-core-web-lg==3.1.0) (3.10.0.0)\n",
      "Requirement already satisfied: smart-open<6.0.0,>=5.0.0 in c:\\users\\andre\\anaconda3\\envs\\codenamesbot\\lib\\site-packages (from pathy>=0.3.5->spacy<3.2.0,>=3.1.0->en-core-web-lg==3.1.0) (5.2.0)\n",
      "Requirement already satisfied: click<7.2.0,>=7.1.1 in c:\\users\\andre\\anaconda3\\envs\\codenamesbot\\lib\\site-packages (from typer<0.4.0,>=0.3.0->spacy<3.2.0,>=3.1.0->en-core-web-lg==3.1.0) (7.1.2)\n",
      "Installing collected packages: en-core-web-lg\n",
      "Successfully installed en-core-web-lg-3.1.0\n",
      "[+] Download and installation successful\n",
      "You can now load the package via spacy.load('en_core_web_lg')\n"
     ]
    }
   ],
   "source": [
    "!python -m spacy download en_core_web_lg"
   ]
  },
  {
   "cell_type": "markdown",
   "id": "8adebd78-1edf-487d-9e16-352725faafcd",
   "metadata": {},
   "source": [
    "Sweet, that was easy! Let's load up the package and the embedding library.\n"
   ]
  },
  {
   "cell_type": "code",
   "execution_count": 5,
   "id": "883e0286-fe34-4a9e-acd4-9a954e92656c",
   "metadata": {},
   "outputs": [],
   "source": [
    "import spacy\n",
    "from collections import OrderedDict\n",
    "import seaborn as sns\n",
    "import numpy as np\n",
    "import nltk\n",
    "\n",
    "embedder = spacy.load('en_core_web_lg')"
   ]
  },
  {
   "cell_type": "code",
   "execution_count": 4,
   "id": "25070b66-6199-4100-8bec-5743b2883a5d",
   "metadata": {},
   "outputs": [
    {
     "name": "stdout",
     "output_type": "stream",
     "text": [
      "Collecting package metadata (current_repodata.json): ...working... done\n",
      "Solving environment: ...working... done\n",
      "\n",
      "# All requested packages already installed.\n",
      "\n",
      "\n",
      "Note: you may need to restart the kernel to use updated packages.\n"
     ]
    },
    {
     "name": "stderr",
     "output_type": "stream",
     "text": [
      "\n",
      "\n",
      "==> WARNING: A newer version of conda exists. <==\n",
      "  current version: 4.9.2\n",
      "  latest version: 4.10.3\n",
      "\n",
      "Please update conda by running\n",
      "\n",
      "    $ conda update -n base -c defaults conda\n",
      "\n",
      "\n"
     ]
    }
   ],
   "source": [
    "conda install seaborn"
   ]
  },
  {
   "cell_type": "code",
   "execution_count": 54,
   "id": "db070c86-74a1-4cc9-a3b0-73a7e88d0cbf",
   "metadata": {},
   "outputs": [],
   "source": [
    "class Operative:\n",
    "    \n",
    "    nlp = spacy.load('en_core_web_lg')\n",
    "    \n",
    "    def __init__(self, board_words: list) -> None: \n",
    "        \n",
    "        ##     Arguments\n",
    "        ##     ------------\n",
    "        ##     board_words : list of the form [] with remaining board words\n",
    "        ##     my_team : string, which team the bot is on (should be a key in board_dict)\n",
    "            \n",
    "        self.board_words = board_words\n",
    "        # initialise spacy NLP instances\n",
    "        board_word_nlp = Operative.nlp.pipe(self.board_words)\n",
    "        \n",
    "        # get embeddings for words on the board\n",
    "        self.board_embeddings = np.array([word.vector for word in board_word_nlp])\n",
    "        \n",
    "        # calculate L2 norms for board word embeddings\n",
    "        board_embedding_norms = np.linalg.norm(self.board_embeddings, axis=1, ord=2)\n",
    "        \n",
    "        # norm everything to 1\n",
    "        self.board_embeddings = self.board_embeddings / board_embedding_norms[:, None]\n",
    "\n",
    "        self.my_team_score = 0\n",
    "        self.other_team_score = 0\n",
    "     \n",
    "    def Guess(self, clue_word, guess_num: int):\n",
    "    \n",
    "        ## clue_word (token) - The word given to the Operative as a clue\n",
    "        ## board_wors (list of token) - Words remaining on the board\n",
    "        ## guess_num (int) - Number of board_words linked to this clue_word    \n",
    "\n",
    "        # Create dictionary to hold distance of board words to clue word\n",
    "        word_dict = OrderedDict()\n",
    "        clue_word = Operative.nlp(clue_word)\n",
    "\n",
    "        # Calculate distances and add to dictionary\n",
    "        for word, emb in zip(self.board_words, self.board_embeddings):\n",
    "\n",
    "            word_dict[word] = emb @ clue_word.vector\n",
    "            \n",
    "        # Order dictionary\n",
    "        dists = [v for k, v in sorted(word_dict.items(), key=lambda item: item[1])]\n",
    "\n",
    "        # Colour heatmap\n",
    "        board_array = np.array(list(word_dict.values())).reshape(5, 5)\n",
    "        labels_array = np.array(list(word_dict.keys())).reshape(5, 5)\n",
    "\n",
    "        sns.heatmap(board_array, annot=labels_array, fmt='')  \n",
    "    \n",
    "        return board_array, labels_array"
   ]
  },
  {
   "cell_type": "code",
   "execution_count": 55,
   "id": "bc6109c7-1b0a-4c83-affb-79bb89f15613",
   "metadata": {},
   "outputs": [],
   "source": [
    "board = ['STEEL', 'CHURCHILL', 'OPERA', 'BULB', 'NOTRE DAME', 'PASTE', 'HEAD', 'FIELD', \n",
    "         'COVER', 'SATURN', 'COLOSSEUM', 'PEARL', 'CLEOPATRA', 'NYLON', 'MARIE CURIE', 'GEAR', \n",
    "         'UNICORN', 'HELMET', 'GATES', 'SPRAY', 'SPINE', 'SILK', 'ROAD', 'COUNTRY', 'STRING']"
   ]
  },
  {
   "cell_type": "code",
   "execution_count": 56,
   "id": "30649fb5-5703-4f01-9c22-4d069c6d8719",
   "metadata": {},
   "outputs": [],
   "source": [
    "op = Operative(board)"
   ]
  },
  {
   "cell_type": "code",
   "execution_count": 57,
   "id": "dc1489eb-14dc-483b-b3c7-5f71ac7de242",
   "metadata": {},
   "outputs": [
    {
     "data": {
      "image/png": "[encoded data removed]",
      "text/plain": [
       "<Figure size 432x288 with 2 Axes>"
      ]
     },
     "metadata": {
      "needs_background": "light"
     },
     "output_type": "display_data"
    }
   ],
   "source": [
    "d = op.Guess('STAINLESS', 3)"
   ]
  }
 ],
 "metadata": {
  "kernelspec": {
   "display_name": "Python 3 (ipykernel)",
   "language": "python",
   "name": "python3"
  },
  "language_info": {
   "codemirror_mode": {
    "name": "ipython",
    "version": 3
   },
   "file_extension": ".py",
   "mimetype": "text/x-python",
   "name": "python",
   "nbconvert_exporter": "python",
   "pygments_lexer": "ipython3",
   "version": "3.8.5"
  }
 },
 "nbformat": 4,
 "nbformat_minor": 5
}
